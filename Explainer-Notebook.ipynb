{
 "cells": [
  {
   "cell_type": "markdown",
   "metadata": {},
   "source": [
    "# Explainer Notebook\n",
    "\n",
    "# COVID-19 in Germany\n",
    "\n",
    "Victor Fertin(s164508), Theis Gregersen(s160691), Katja Salskov-Iversen(s144549)\n",
    "\n",
    "\n"
   ]
  },
  {
   "cell_type": "markdown",
   "metadata": {},
   "source": [
    "## 1. Motivation\n",
    "\n",
    "The 2019 Novel Coronavirus (COVID-19) continues to spread in countries around the world. This project is concerning the spread of the virus in Germany. The data sources are obtained from Kaggle and contain number of reported cases, deaths and recoveries in Germany on the federal state (Bundesland) and county (Landkreis/Stadtkreis) level. Furthermore the latitude and longtitude coordinates are found for each state and merged with the dataset. \n",
    "\n",
    "The reason for choosing these particular dataset, is because Germany was amongst the most affected countries worldwide, while also a part of the once that did the most COVID-19 tests in the beginning of the spread  ([Reference](https://www.euronews.com/2020/03/27/germany-increases-its-covid-19-tests-to-500-000-per-week)) . This was a choice made by the group when the project started 31/3/2020. However, these facts have change at the current date. Now Germany has declared “fragile intermediate success”. This declaration makes it interesting to investigate the choices and regulations that Germany has made to assure slowing the spread. \n",
    "\n"
   ]
  },
  {
   "cell_type": "markdown",
   "metadata": {},
   "source": [
    "First, all the used packages are loaded: "
   ]
  },
  {
   "cell_type": "code",
   "execution_count": 1,
   "metadata": {},
   "outputs": [],
   "source": [
    "import pandas as pd\n",
    "import numpy as np\n",
    "\n",
    "import datetime as dt\n",
    "import warnings\n",
    "from random import sample \n",
    "warnings.filterwarnings('ignore')\n",
    "import matplotlib.animation as animation\n",
    "import matplotlib.ticker as ticker\n",
    "\n",
    "import random\n",
    "import seaborn as sns\n",
    "import matplotlib.pyplot as plt\n",
    "%matplotlib inline\n",
    "\n",
    "\n",
    "#Plotly\n",
    "import plotly.graph_objects as go\n",
    "import plotly.offline as py\n",
    "\n",
    "# bokeh basics\n",
    "from bokeh.plotting import figure\n",
    "from bokeh.io import show, output_notebook, output_file, show\n",
    "from bokeh.plotting import figure\n",
    "from bokeh.models import ColumnDataSource, HoverTool\n",
    "from bokeh.transform import dodge\n",
    "\n",
    "#Folium \n",
    "import folium\n",
    "from folium.plugins import HeatMap\n",
    "from folium import plugins\n",
    "\n",
    "from folium.plugins import MarkerCluster\n",
    "from folium.plugins import FastMarkerCluster\n",
    "\n",
    "# Displaying html\n",
    "from IPython.display import HTML\n",
    "from IPython.display import IFrame\n",
    "\n",
    "# Solver for SEIR model\n",
    "from scipy.integrate import odeint"
   ]
  },
  {
   "cell_type": "markdown",
   "metadata": {},
   "source": [
    "Now the data from Kaggle and the location data is loaded, merged and presented to give an overview of the data:"
   ]
  },
  {
   "cell_type": "code",
   "execution_count": 2,
   "metadata": {},
   "outputs": [
    {
     "data": {
      "text/html": [
       "<div>\n",
       "<style scoped>\n",
       "    .dataframe tbody tr th:only-of-type {\n",
       "        vertical-align: middle;\n",
       "    }\n",
       "\n",
       "    .dataframe tbody tr th {\n",
       "        vertical-align: top;\n",
       "    }\n",
       "\n",
       "    .dataframe thead th {\n",
       "        text-align: right;\n",
       "    }\n",
       "</style>\n",
       "<table border=\"1\" class=\"dataframe\">\n",
       "  <thead>\n",
       "    <tr style=\"text-align: right;\">\n",
       "      <th></th>\n",
       "      <th>state</th>\n",
       "      <th>county</th>\n",
       "      <th>age_group</th>\n",
       "      <th>gender</th>\n",
       "      <th>date</th>\n",
       "      <th>cases</th>\n",
       "      <th>deaths</th>\n",
       "      <th>recovered</th>\n",
       "      <th>population</th>\n",
       "      <th>Lat</th>\n",
       "      <th>Lon</th>\n",
       "    </tr>\n",
       "  </thead>\n",
       "  <tbody>\n",
       "    <tr>\n",
       "      <th>0</th>\n",
       "      <td>Baden-Wuerttemberg</td>\n",
       "      <td>LK Alb-Donau-Kreis</td>\n",
       "      <td>00-04</td>\n",
       "      <td>F</td>\n",
       "      <td>2020-03-27</td>\n",
       "      <td>1</td>\n",
       "      <td>0</td>\n",
       "      <td>1</td>\n",
       "      <td>261674</td>\n",
       "      <td>48.465000</td>\n",
       "      <td>9.761111</td>\n",
       "    </tr>\n",
       "    <tr>\n",
       "      <th>1</th>\n",
       "      <td>Baden-Wuerttemberg</td>\n",
       "      <td>LK Alb-Donau-Kreis</td>\n",
       "      <td>00-04</td>\n",
       "      <td>F</td>\n",
       "      <td>2020-03-28</td>\n",
       "      <td>1</td>\n",
       "      <td>0</td>\n",
       "      <td>1</td>\n",
       "      <td>261674</td>\n",
       "      <td>48.465000</td>\n",
       "      <td>9.761111</td>\n",
       "    </tr>\n",
       "    <tr>\n",
       "      <th>2</th>\n",
       "      <td>Baden-Wuerttemberg</td>\n",
       "      <td>LK Alb-Donau-Kreis</td>\n",
       "      <td>00-04</td>\n",
       "      <td>F</td>\n",
       "      <td>2020-04-03</td>\n",
       "      <td>1</td>\n",
       "      <td>0</td>\n",
       "      <td>1</td>\n",
       "      <td>261674</td>\n",
       "      <td>48.465000</td>\n",
       "      <td>9.761111</td>\n",
       "    </tr>\n",
       "    <tr>\n",
       "      <th>3</th>\n",
       "      <td>Baden-Wuerttemberg</td>\n",
       "      <td>LK Alb-Donau-Kreis</td>\n",
       "      <td>05-14</td>\n",
       "      <td>F</td>\n",
       "      <td>2020-03-17</td>\n",
       "      <td>1</td>\n",
       "      <td>0</td>\n",
       "      <td>1</td>\n",
       "      <td>490822</td>\n",
       "      <td>48.465000</td>\n",
       "      <td>9.761111</td>\n",
       "    </tr>\n",
       "    <tr>\n",
       "      <th>4</th>\n",
       "      <td>Baden-Wuerttemberg</td>\n",
       "      <td>LK Alb-Donau-Kreis</td>\n",
       "      <td>05-14</td>\n",
       "      <td>F</td>\n",
       "      <td>2020-03-25</td>\n",
       "      <td>1</td>\n",
       "      <td>0</td>\n",
       "      <td>1</td>\n",
       "      <td>490822</td>\n",
       "      <td>48.465000</td>\n",
       "      <td>9.761111</td>\n",
       "    </tr>\n",
       "    <tr>\n",
       "      <th>...</th>\n",
       "      <td>...</td>\n",
       "      <td>...</td>\n",
       "      <td>...</td>\n",
       "      <td>...</td>\n",
       "      <td>...</td>\n",
       "      <td>...</td>\n",
       "      <td>...</td>\n",
       "      <td>...</td>\n",
       "      <td>...</td>\n",
       "      <td>...</td>\n",
       "      <td>...</td>\n",
       "    </tr>\n",
       "    <tr>\n",
       "      <th>67851</th>\n",
       "      <td>Thueringen</td>\n",
       "      <td>SK Suhl</td>\n",
       "      <td>60-79</td>\n",
       "      <td>F</td>\n",
       "      <td>2020-04-17</td>\n",
       "      <td>1</td>\n",
       "      <td>0</td>\n",
       "      <td>1</td>\n",
       "      <td>297754</td>\n",
       "      <td>50.609111</td>\n",
       "      <td>10.694009</td>\n",
       "    </tr>\n",
       "    <tr>\n",
       "      <th>67852</th>\n",
       "      <td>Thueringen</td>\n",
       "      <td>SK Suhl</td>\n",
       "      <td>60-79</td>\n",
       "      <td>M</td>\n",
       "      <td>2020-03-24</td>\n",
       "      <td>1</td>\n",
       "      <td>1</td>\n",
       "      <td>0</td>\n",
       "      <td>264189</td>\n",
       "      <td>50.609111</td>\n",
       "      <td>10.694009</td>\n",
       "    </tr>\n",
       "    <tr>\n",
       "      <th>67853</th>\n",
       "      <td>Thueringen</td>\n",
       "      <td>SK Suhl</td>\n",
       "      <td>60-79</td>\n",
       "      <td>M</td>\n",
       "      <td>2020-03-28</td>\n",
       "      <td>1</td>\n",
       "      <td>1</td>\n",
       "      <td>0</td>\n",
       "      <td>264189</td>\n",
       "      <td>50.609111</td>\n",
       "      <td>10.694009</td>\n",
       "    </tr>\n",
       "    <tr>\n",
       "      <th>67854</th>\n",
       "      <td>Thueringen</td>\n",
       "      <td>SK Suhl</td>\n",
       "      <td>60-79</td>\n",
       "      <td>M</td>\n",
       "      <td>2020-04-15</td>\n",
       "      <td>1</td>\n",
       "      <td>0</td>\n",
       "      <td>1</td>\n",
       "      <td>264189</td>\n",
       "      <td>50.609111</td>\n",
       "      <td>10.694009</td>\n",
       "    </tr>\n",
       "    <tr>\n",
       "      <th>67855</th>\n",
       "      <td>Thueringen</td>\n",
       "      <td>SK Suhl</td>\n",
       "      <td>80-99</td>\n",
       "      <td>F</td>\n",
       "      <td>2020-04-03</td>\n",
       "      <td>1</td>\n",
       "      <td>0</td>\n",
       "      <td>1</td>\n",
       "      <td>101538</td>\n",
       "      <td>50.609111</td>\n",
       "      <td>10.694009</td>\n",
       "    </tr>\n",
       "  </tbody>\n",
       "</table>\n",
       "<p>67855 rows × 11 columns</p>\n",
       "</div>"
      ],
      "text/plain": [
       "                    state              county age_group gender       date  \\\n",
       "0      Baden-Wuerttemberg  LK Alb-Donau-Kreis     00-04      F 2020-03-27   \n",
       "1      Baden-Wuerttemberg  LK Alb-Donau-Kreis     00-04      F 2020-03-28   \n",
       "2      Baden-Wuerttemberg  LK Alb-Donau-Kreis     00-04      F 2020-04-03   \n",
       "3      Baden-Wuerttemberg  LK Alb-Donau-Kreis     05-14      F 2020-03-17   \n",
       "4      Baden-Wuerttemberg  LK Alb-Donau-Kreis     05-14      F 2020-03-25   \n",
       "...                   ...                 ...       ...    ...        ...   \n",
       "67851          Thueringen             SK Suhl     60-79      F 2020-04-17   \n",
       "67852          Thueringen             SK Suhl     60-79      M 2020-03-24   \n",
       "67853          Thueringen             SK Suhl     60-79      M 2020-03-28   \n",
       "67854          Thueringen             SK Suhl     60-79      M 2020-04-15   \n",
       "67855          Thueringen             SK Suhl     80-99      F 2020-04-03   \n",
       "\n",
       "       cases  deaths  recovered  population        Lat        Lon  \n",
       "0          1       0          1      261674  48.465000   9.761111  \n",
       "1          1       0          1      261674  48.465000   9.761111  \n",
       "2          1       0          1      261674  48.465000   9.761111  \n",
       "3          1       0          1      490822  48.465000   9.761111  \n",
       "4          1       0          1      490822  48.465000   9.761111  \n",
       "...      ...     ...        ...         ...        ...        ...  \n",
       "67851      1       0          1      297754  50.609111  10.694009  \n",
       "67852      1       1          0      264189  50.609111  10.694009  \n",
       "67853      1       1          0      264189  50.609111  10.694009  \n",
       "67854      1       0          1      264189  50.609111  10.694009  \n",
       "67855      1       0          1      101538  50.609111  10.694009  \n",
       "\n",
       "[67855 rows x 11 columns]"
      ]
     },
     "execution_count": 2,
     "metadata": {},
     "output_type": "execute_result"
    }
   ],
   "source": [
    "df_covid1 = pd.read_csv(\"data/covid_de.csv\")\n",
    "df_demo = pd.read_csv(\"data/demographics_de.csv\")\n",
    "df_des = pd.read_excel(\"data/location.xlsx\")\n",
    "\n",
    "#drop NaN and change to datetime\n",
    "df_covid = df_covid1.dropna()\n",
    "df_covid['date'] = pd.to_datetime(df_covid.date)\n",
    "\n",
    "\n",
    "#Changing gender in demografic to have same values as covid data set. \n",
    "df_demo['gender'] = df_demo['gender'].map({'female': 'F','male':'M'})\n",
    "\n",
    "\n",
    "#Merging the two dataset on state, age_group and gender. \n",
    "merged = pd.merge(df_covid,df_demo,how='inner', on=[\"state\",\"age_group\",\"gender\"])\n",
    "#And merging latitude and longtitude on the full dataset\n",
    "df = pd.merge(merged,df_des,how='inner',on=['county'])\n",
    "df['date'] = pd.to_datetime(df.date)\n",
    "df = df[~(df['date'] < '2020-01-27')]\n",
    "#We make a table that is grouped by date for statistical analysis\n",
    "df_date=df.groupby('date').sum()\n",
    "\n",
    "\n",
    "df"
   ]
  },
  {
   "cell_type": "markdown",
   "metadata": {},
   "source": [
    "The dataset contains 11 attributes and 67655 observations. \n",
    "\n",
    "The merged dataset contains COVID data in general (state, country, age_group, gender, date, cases, deaths and recovered), demographic data (population by state, gender and age_group), and finally location (lat, lon). The three datasets are chosen to get an overview of the spread in general, but also to investigate if the virus spread more in certain areas or if a specific group of people are more likely to catch the virus. \n",
    "\n",
    "The goal is to make the end user aware of the virus spread in Germany and the importance of the government’s regulations in regards to slowing the spread. \n"
   ]
  },
  {
   "cell_type": "markdown",
   "metadata": {},
   "source": [
    "## 2. Basic stats"
   ]
  },
  {
   "cell_type": "markdown",
   "metadata": {},
   "source": [
    "### Data cleaning\n",
    "\n",
    "When collecting the data, we started by observing the number of null values in the dataset. \n",
    "\n"
   ]
  },
  {
   "cell_type": "code",
   "execution_count": 3,
   "metadata": {},
   "outputs": [
    {
     "name": "stdout",
     "output_type": "stream",
     "text": [
      "age_group has 162 null values\n",
      "gender has 375 null values\n"
     ]
    }
   ],
   "source": [
    "for column in df_covid1:\n",
    "    if df_covid1[column].isnull().any():\n",
    "       print('{0} has {1} null values'.format(column, df_covid1[column].isnull().sum()))"
   ]
  },
  {
   "cell_type": "markdown",
   "metadata": {},
   "source": [
    "(OBS: The data cleaning and preprocessing code is shown in 1. Motivation)\n",
    "\n",
    "This show us, that some of the data is insufficient, because of the null values. It is decided to remove these nulls since it is a low amount of rows, hence it should not be relevant to the outcome of the analysis. \n",
    "\n",
    "Furthermore the attribute \"date\" is converted to date time. To be able to merge the data sets, the values in the gender attribute has to be changed to F and M describing the two gender.\n",
    "\n",
    "Finally the three dataset are merged. "
   ]
  },
  {
   "cell_type": "markdown",
   "metadata": {},
   "source": [
    "An overview of the key statistics are shown below. The statistics take stand in df_date, where the dataset is grouped by date, which gives an overview of registred cases, deaths and recoveries per day in all off Gernamny. "
   ]
  },
  {
   "cell_type": "code",
   "execution_count": 4,
   "metadata": {},
   "outputs": [
    {
     "data": {
      "text/html": [
       "<div>\n",
       "<style scoped>\n",
       "    .dataframe tbody tr th:only-of-type {\n",
       "        vertical-align: middle;\n",
       "    }\n",
       "\n",
       "    .dataframe tbody tr th {\n",
       "        vertical-align: top;\n",
       "    }\n",
       "\n",
       "    .dataframe thead th {\n",
       "        text-align: right;\n",
       "    }\n",
       "</style>\n",
       "<table border=\"1\" class=\"dataframe\">\n",
       "  <thead>\n",
       "    <tr style=\"text-align: right;\">\n",
       "      <th></th>\n",
       "      <th>cases</th>\n",
       "      <th>recovered</th>\n",
       "      <th>deaths</th>\n",
       "    </tr>\n",
       "  </thead>\n",
       "  <tbody>\n",
       "    <tr>\n",
       "      <th>count</th>\n",
       "      <td>83.000000</td>\n",
       "      <td>83.000000</td>\n",
       "      <td>83.000000</td>\n",
       "    </tr>\n",
       "    <tr>\n",
       "      <th>mean</th>\n",
       "      <td>1962.012048</td>\n",
       "      <td>1621.313253</td>\n",
       "      <td>82.144578</td>\n",
       "    </tr>\n",
       "    <tr>\n",
       "      <th>std</th>\n",
       "      <td>1981.807850</td>\n",
       "      <td>1904.375725</td>\n",
       "      <td>103.115390</td>\n",
       "    </tr>\n",
       "    <tr>\n",
       "      <th>min</th>\n",
       "      <td>1.000000</td>\n",
       "      <td>1.000000</td>\n",
       "      <td>0.000000</td>\n",
       "    </tr>\n",
       "    <tr>\n",
       "      <th>25%</th>\n",
       "      <td>66.000000</td>\n",
       "      <td>37.000000</td>\n",
       "      <td>0.000000</td>\n",
       "    </tr>\n",
       "    <tr>\n",
       "      <th>50%</th>\n",
       "      <td>1418.000000</td>\n",
       "      <td>830.000000</td>\n",
       "      <td>27.000000</td>\n",
       "    </tr>\n",
       "    <tr>\n",
       "      <th>75%</th>\n",
       "      <td>3309.000000</td>\n",
       "      <td>2959.500000</td>\n",
       "      <td>146.500000</td>\n",
       "    </tr>\n",
       "    <tr>\n",
       "      <th>max</th>\n",
       "      <td>6546.000000</td>\n",
       "      <td>6142.000000</td>\n",
       "      <td>366.000000</td>\n",
       "    </tr>\n",
       "  </tbody>\n",
       "</table>\n",
       "</div>"
      ],
      "text/plain": [
       "             cases    recovered      deaths\n",
       "count    83.000000    83.000000   83.000000\n",
       "mean   1962.012048  1621.313253   82.144578\n",
       "std    1981.807850  1904.375725  103.115390\n",
       "min       1.000000     1.000000    0.000000\n",
       "25%      66.000000    37.000000    0.000000\n",
       "50%    1418.000000   830.000000   27.000000\n",
       "75%    3309.000000  2959.500000  146.500000\n",
       "max    6546.000000  6142.000000  366.000000"
      ]
     },
     "execution_count": 4,
     "metadata": {},
     "output_type": "execute_result"
    }
   ],
   "source": [
    "df_date[['cases','recovered','deaths']].describe()"
   ]
  },
  {
   "cell_type": "markdown",
   "metadata": {},
   "source": [
    "Key point to take away from this overview is that the median of all three attributes are relatively low compared to max. This tells us, that most days smaller amount of cases, deaths and recovered were registered. This can be of many reasons, one of them being that the country decided to test a lot in one or two days, but not consistently over many days. Further investigation is necessary. "
   ]
  },
  {
   "cell_type": "code",
   "execution_count": 5,
   "metadata": {},
   "outputs": [
    {
     "data": {
      "text/html": [
       "<div>\n",
       "<style scoped>\n",
       "    .dataframe tbody tr th:only-of-type {\n",
       "        vertical-align: middle;\n",
       "    }\n",
       "\n",
       "    .dataframe tbody tr th {\n",
       "        vertical-align: top;\n",
       "    }\n",
       "\n",
       "    .dataframe thead th {\n",
       "        text-align: right;\n",
       "    }\n",
       "</style>\n",
       "<table border=\"1\" class=\"dataframe\">\n",
       "  <thead>\n",
       "    <tr style=\"text-align: right;\">\n",
       "      <th></th>\n",
       "      <th>state</th>\n",
       "      <th>county</th>\n",
       "      <th>age_group</th>\n",
       "      <th>gender</th>\n",
       "    </tr>\n",
       "  </thead>\n",
       "  <tbody>\n",
       "    <tr>\n",
       "      <th>count</th>\n",
       "      <td>67856</td>\n",
       "      <td>67856</td>\n",
       "      <td>67856</td>\n",
       "      <td>67856</td>\n",
       "    </tr>\n",
       "    <tr>\n",
       "      <th>unique</th>\n",
       "      <td>16</td>\n",
       "      <td>412</td>\n",
       "      <td>6</td>\n",
       "      <td>2</td>\n",
       "    </tr>\n",
       "    <tr>\n",
       "      <th>top</th>\n",
       "      <td>Bayern</td>\n",
       "      <td>SK Muenchen</td>\n",
       "      <td>35-59</td>\n",
       "      <td>F</td>\n",
       "    </tr>\n",
       "    <tr>\n",
       "      <th>freq</th>\n",
       "      <td>17276</td>\n",
       "      <td>564</td>\n",
       "      <td>22663</td>\n",
       "      <td>34278</td>\n",
       "    </tr>\n",
       "  </tbody>\n",
       "</table>\n",
       "</div>"
      ],
      "text/plain": [
       "         state       county age_group gender\n",
       "count    67856        67856     67856  67856\n",
       "unique      16          412         6      2\n",
       "top     Bayern  SK Muenchen     35-59      F\n",
       "freq     17276          564     22663  34278"
      ]
     },
     "execution_count": 5,
     "metadata": {},
     "output_type": "execute_result"
    }
   ],
   "source": [
    "# this overview is of covid data only.\n",
    "df_covid.describe(include='object')"
   ]
  },
  {
   "cell_type": "markdown",
   "metadata": {},
   "source": [
    "This lilte overview show that there are 16 staets in Germany, 412 counties, 6 age groups and 2 genders. \n",
    "\n",
    "The rest of the stats are difficult to draw any fast conclusions from, since they are considered in both number of cases, deaths and recoveries. This should be further investigated before any conclusion.\n",
    "\n",
    "Following is an overview of the distribution of number of cases and recoveries overall in Germany, when grouping the data by date. "
   ]
  },
  {
   "cell_type": "code",
   "execution_count": 6,
   "metadata": {},
   "outputs": [
    {
     "data": {
      "text/plain": [
       "<matplotlib.axes._subplots.AxesSubplot at 0x2357a65c978>"
      ]
     },
     "execution_count": 6,
     "metadata": {},
     "output_type": "execute_result"
    },
    {
     "data": {
      "image/png": "[encoded data removed]",
      "text/plain": [
       "<Figure size 1080x576 with 2 Axes>"
      ]
     },
     "metadata": {
      "needs_background": "light"
     },
     "output_type": "display_data"
    }
   ],
   "source": [
    "#We start by making four plots on the same run. \n",
    "fig, (ax1,ax2) = plt.subplots(ncols=2, sharey=True,figsize=(15, 8))\n",
    "\n",
    "sns.distplot(df_date.cases, rug=True, ax=ax1)\n",
    "sns.distplot(df_date.recovered, rug=True, ax=ax2)\n",
    "# sns.distplot(df_date.deaths, rug=True, ax=ax3)"
   ]
  },
  {
   "cell_type": "code",
   "execution_count": 7,
   "metadata": {},
   "outputs": [
    {
     "data": {
      "text/plain": [
       "cases        0.778293\n",
       "recovered    0.990543\n",
       "deaths       1.182449\n",
       "dtype: float64"
      ]
     },
     "execution_count": 7,
     "metadata": {},
     "output_type": "execute_result"
    }
   ],
   "source": [
    "#Checking for the skew value.\n",
    "df_date[['cases','recovered','deaths']].skew()"
   ]
  },
  {
   "cell_type": "markdown",
   "metadata": {},
   "source": [
    "The two distributions are alike, which makes good sence - the more confirmed cases, the more confirmed recovered. \n",
    "\n",
    "Furthermore we see the clear tendensy that we also saw in the summary, where most days only a few new cases or recoveries are confirmed. Both distributions are positive skewed, and the skew value of deaths is even larger. \n",
    "\n",
    "\n",
    "The next plot will show the correlation between cases, deaths and recoveries: \n"
   ]
  },
  {
   "cell_type": "code",
   "execution_count": 8,
   "metadata": {},
   "outputs": [
    {
     "data": {
      "text/plain": [
       "<seaborn.axisgrid.PairGrid at 0x2356d7d65f8>"
      ]
     },
     "execution_count": 8,
     "metadata": {},
     "output_type": "execute_result"
    },
    {
     "data": {
      "image/png": "[encoded data removed]",
      "text/plain": [
       "<Figure size 540x540 with 12 Axes>"
      ]
     },
     "metadata": {
      "needs_background": "light"
     },
     "output_type": "display_data"
    }
   ],
   "source": [
    "sns.pairplot(df_date[['cases','recovered','deaths']], kind=\"reg\")"
   ]
  },
  {
   "cell_type": "markdown",
   "metadata": {},
   "source": [
    "The pairplot show, as expected, a possitive correlation between the the three attributes -> the more confirmed cases, the more deaths, and also more confirmed recoveries. It is hard to compare recovered and deaths, since you cannot recover after dying. However, because they are borh correlated with number of cases, they too are correlated. "
   ]
  },
  {
   "cell_type": "markdown",
   "metadata": {},
   "source": [
    "## 3. Data analysis"
   ]
  },
  {
   "cell_type": "markdown",
   "metadata": {},
   "source": [
    "The data analysis was initiated by exploring the overall development of recorded cases, deaths and recoveries in Germany. From investigating the different parameters, it was deduced that there on average is recorded 2.4 cases of new infected across counties, gender and age groups. For recorded deaths and recoveries this was approximately 0.1 and 2.0 respectively."
   ]
  },
  {
   "cell_type": "code",
   "execution_count": 9,
   "metadata": {},
   "outputs": [
    {
     "data": {
      "text/html": [
       "<div>\n",
       "<style scoped>\n",
       "    .dataframe tbody tr th:only-of-type {\n",
       "        vertical-align: middle;\n",
       "    }\n",
       "\n",
       "    .dataframe tbody tr th {\n",
       "        vertical-align: top;\n",
       "    }\n",
       "\n",
       "    .dataframe thead th {\n",
       "        text-align: right;\n",
       "    }\n",
       "</style>\n",
       "<table border=\"1\" class=\"dataframe\">\n",
       "  <thead>\n",
       "    <tr style=\"text-align: right;\">\n",
       "      <th></th>\n",
       "      <th>cases</th>\n",
       "      <th>deaths</th>\n",
       "      <th>recovered</th>\n",
       "    </tr>\n",
       "  </thead>\n",
       "  <tbody>\n",
       "    <tr>\n",
       "      <th>count</th>\n",
       "      <td>67856.000000</td>\n",
       "      <td>67856.000000</td>\n",
       "      <td>67856.000000</td>\n",
       "    </tr>\n",
       "    <tr>\n",
       "      <th>mean</th>\n",
       "      <td>2.399906</td>\n",
       "      <td>0.100477</td>\n",
       "      <td>1.983170</td>\n",
       "    </tr>\n",
       "    <tr>\n",
       "      <th>std</th>\n",
       "      <td>2.871071</td>\n",
       "      <td>0.398526</td>\n",
       "      <td>2.778219</td>\n",
       "    </tr>\n",
       "    <tr>\n",
       "      <th>min</th>\n",
       "      <td>0.000000</td>\n",
       "      <td>0.000000</td>\n",
       "      <td>-1.000000</td>\n",
       "    </tr>\n",
       "    <tr>\n",
       "      <th>25%</th>\n",
       "      <td>1.000000</td>\n",
       "      <td>0.000000</td>\n",
       "      <td>1.000000</td>\n",
       "    </tr>\n",
       "    <tr>\n",
       "      <th>50%</th>\n",
       "      <td>1.000000</td>\n",
       "      <td>0.000000</td>\n",
       "      <td>1.000000</td>\n",
       "    </tr>\n",
       "    <tr>\n",
       "      <th>75%</th>\n",
       "      <td>3.000000</td>\n",
       "      <td>0.000000</td>\n",
       "      <td>2.000000</td>\n",
       "    </tr>\n",
       "    <tr>\n",
       "      <th>max</th>\n",
       "      <td>69.000000</td>\n",
       "      <td>10.000000</td>\n",
       "      <td>68.000000</td>\n",
       "    </tr>\n",
       "  </tbody>\n",
       "</table>\n",
       "</div>"
      ],
      "text/plain": [
       "              cases        deaths     recovered\n",
       "count  67856.000000  67856.000000  67856.000000\n",
       "mean       2.399906      0.100477      1.983170\n",
       "std        2.871071      0.398526      2.778219\n",
       "min        0.000000      0.000000     -1.000000\n",
       "25%        1.000000      0.000000      1.000000\n",
       "50%        1.000000      0.000000      1.000000\n",
       "75%        3.000000      0.000000      2.000000\n",
       "max       69.000000     10.000000     68.000000"
      ]
     },
     "execution_count": 9,
     "metadata": {},
     "output_type": "execute_result"
    }
   ],
   "source": [
    "df_covid.describe()"
   ]
  },
  {
   "cell_type": "markdown",
   "metadata": {},
   "source": [
    "From the plot below it is ascertained that Germany has four observations with more than 60 recorded new infected within one age group, one county and either female or male. And as mentioned above, the observations are centering around the lower number of cases. Note that the y-axis has been log-scaled."
   ]
  },
  {
   "cell_type": "code",
   "execution_count": 10,
   "metadata": {},
   "outputs": [
    {
     "data": {
      "image/png": "[encoded data removed]",
      "text/plain": [
       "<Figure size 1080x576 with 1 Axes>"
      ]
     },
     "metadata": {
      "needs_background": "light"
     },
     "output_type": "display_data"
    }
   ],
   "source": [
    "plt.figure(figsize=(15,8))\n",
    "chart = sns.countplot(df_covid['cases'],color = 'royalblue')\n",
    "chart.set_yscale('log')\n",
    "\n",
    "chart.set_xticklabels(chart.get_xticklabels(), rotation=45, horizontalalignment='right')\n",
    "plt.tight_layout()\n",
    "plt.show()"
   ]
  },
  {
   "cell_type": "markdown",
   "metadata": {},
   "source": [
    "From looking at the distribution of gender it was deduced that Germany experienced more recorded cases for females than for males, which were quite surprising because the reverse was expected. However, it also showed that the death rate is higher for men, which is consistent with the impression that was given by the media; that the COVID-19 strikes men harder than women. "
   ]
  },
  {
   "cell_type": "code",
   "execution_count": 11,
   "metadata": {},
   "outputs": [
    {
     "data": {
      "text/plain": [
       "<matplotlib.axes._subplots.AxesSubplot at 0x2357fa6a6d8>"
      ]
     },
     "execution_count": 11,
     "metadata": {},
     "output_type": "execute_result"
    },
    {
     "data": {
      "image/png": "[encoded data removed]",
      "text/plain": [
       "<Figure size 432x288 with 1 Axes>"
      ]
     },
     "metadata": {
      "needs_background": "light"
     },
     "output_type": "display_data"
    }
   ],
   "source": [
    "dd = df.groupby('gender').sum()\n",
    "dd.drop(['population','Lat','Lon'],axis=1).plot(kind='bar',color =['C1','red','green'])"
   ]
  },
  {
   "cell_type": "markdown",
   "metadata": {},
   "source": [
    "By investigating the distribution among the different age groups, it was identified that the most recorded cases are within the age group of 35 to 59. Not particularly surprising since this age group has the highest contribution to the population of Germany. Additionally, the same investigation revealed, that the age groups from 60 onwards has the highest amount of deaths and 80 to 99 taking the dull lead."
   ]
  },
  {
   "cell_type": "code",
   "execution_count": 12,
   "metadata": {},
   "outputs": [
    {
     "data": {
      "text/plain": [
       "<matplotlib.axes._subplots.AxesSubplot at 0x2357f7ac358>"
      ]
     },
     "execution_count": 12,
     "metadata": {},
     "output_type": "execute_result"
    },
    {
     "data": {
      "image/png": "[encoded data removed]",
      "text/plain": [
       "<Figure size 432x288 with 1 Axes>"
      ]
     },
     "metadata": {
      "needs_background": "light"
     },
     "output_type": "display_data"
    }
   ],
   "source": [
    "dd = df.groupby('age_group').sum()\n",
    "dd.drop(['population','Lat','Lon'],axis=1).plot(kind='bar',color =['C1','red','green'])"
   ]
  },
  {
   "cell_type": "markdown",
   "metadata": {},
   "source": [
    "When studying the spread of COVID-19 across the country it was made clear that Bayern is one of the most severely affected states in Germany and was likewise this state that had the first recorded case of COVID-19. As illustrated in the race bar chart on the webpage it is only Nordrhein-Westfalen and Baden-Württemberg that are experiencing the same amount of cases.  "
   ]
  },
  {
   "cell_type": "code",
   "execution_count": 13,
   "metadata": {},
   "outputs": [
    {
     "data": {
      "image/png": "[encoded data removed]",
      "text/plain": [
       "<Figure size 900x576 with 1 Axes>"
      ]
     },
     "metadata": {
      "needs_background": "light"
     },
     "output_type": "display_data"
    }
   ],
   "source": [
    "dd = df.groupby('state').sum()\n",
    "plt.figure(figsize=(12.5,8))\n",
    "#chart = sns.barplot(data = dd, x= dd.index ,y=dd.cases.values, palette = 'Blues_r')\n",
    "chart = sns.barplot(x= df_covid['state'].unique() ,y=df_covid.groupby('state')['cases'].sum().values, color = 'royalblue')\n",
    "\n",
    "chart.set_xticklabels(chart.get_xticklabels(), rotation=45, horizontalalignment='right')\n",
    "plt.tight_layout()\n",
    "plt.show()"
   ]
  },
  {
   "cell_type": "markdown",
   "metadata": {},
   "source": [
    "However, these numbers are not taken the total population within each state into account. When doing so Bayern and Baden-Württemberg are still the two states that are most affected, but Nordrhein-Westfalen are only the fifth worse and the states Saarland and Hamburg are now the third and fourth worse states regarding most recorded cases."
   ]
  },
  {
   "cell_type": "code",
   "execution_count": 14,
   "metadata": {},
   "outputs": [
    {
     "data": {
      "image/png": "[encoded data removed]",
      "text/plain": [
       "<Figure size 900x576 with 1 Axes>"
      ]
     },
     "metadata": {
      "needs_background": "light"
     },
     "output_type": "display_data"
    }
   ],
   "source": [
    "plt.figure(figsize=(12.5,8))\n",
    "chart = sns.barplot( x= df_covid['state'].unique(),y=df_covid.groupby('state')['cases'].sum().values/df_demo.groupby('state')['population'].sum().values, color = 'royalblue')\n",
    "\n",
    "chart.set_xticklabels(chart.get_xticklabels(), rotation=45, horizontalalignment='right')\n",
    "plt.tight_layout()\n",
    "plt.show()"
   ]
  },
  {
   "cell_type": "markdown",
   "metadata": {},
   "source": [
    "By conducting a heatmap it was clearly illustrated that the spread is centering around the densely populated areas, which also makes perfect sense. This visualisation will be presented later."
   ]
  },
  {
   "cell_type": "markdown",
   "metadata": {},
   "source": [
    "By exploring the development of recorded cases, death and recoveries over time and within each state or county and gender or age group a nascent story was slowly taking its form and an idea of what would be interesting to incorporate in the explanatory visualisations were initiated."
   ]
  },
  {
   "cell_type": "markdown",
   "metadata": {},
   "source": [
    "## 4. Genre"
   ]
  },
  {
   "cell_type": "markdown",
   "metadata": {},
   "source": [
    "The genre of this project is in the philosiphi of a slideshow, where the typical slideshow format makes it author-driven but where the interaction opportunities are reader-driven, and for each slide the discovery of the data is up to the reader. However, the slideshow genre is build up as a web page format, where the reader scroll down instead of scrolling to the next page. This genre works well because it allow the aouther to walk the user through data-dimensions and manipulations step-bystep. This ensures that the user only moves forward in the presentation when he/she is ready to do so, and allows the user to stop and interact with the visuals if needed (cite:Narrative Visualization: Telling Stories with Data, section 4-5). \n",
    "\n",
    "Looking at *The Design space analysis*, this project has used following Visual narratives: \n",
    "\n",
    "<u>Visual Structuring:</u>\n",
    "* Establishing shot\\\n",
    "An establishing shot is used to introduce the scen of the visualization. This allows us to manipulate a scene to direct attention to a point of interest. \n",
    "* Progress Bar / Timeline # OBS: DENNE KAN VI VÆLGE AT HAVE MED? KONSTANT VISE HVOR LANGT VI ER I FREMLÆGGELSEN? \n",
    "* \"Checklist Progress Tracker #OBS SAMME MED DENNE... \n",
    "\n",
    "<u>Highlighting:</u> \n",
    "* Motion \\ VED IKKE HELT HVAD DENNE ER\n",
    "* Colors\\\n",
    "Specific colors are used to try and allorcate the users attention to specific areas or important points in the visualization and around in the slideshow.\n",
    "* Zooming \\\n",
    "Interactive zooming is possible in some visualizations to allow the reader to dive into the data, if eks. he/she wants to look closer on the map and the registred cases in Germany. \n",
    "\n",
    "<u>Transition guidance:</u> \n",
    "* \n",
    "\n",
    "And following narrative structure:\n",
    "\n",
    "<u>Ordering:</u>\n",
    "* Linear\\\n",
    "The narrative of the slideshow is lineary. This is chosen because the story that is told is aouther-driven, and because we want to tell the story step by step, to inform the user as much as possible in the correct order. \n",
    "\n",
    "<u>Interactivity:</u>\n",
    "* Hover highlighting\\\n",
    "It is chosen to include hover highlighting since it encourages the reader to be interactive with the visualization, and allow the curious reader to get details-on-demand, without too much explaining text is confusing the slideshow. \n",
    "* Filtering, selection\\\n",
    "Filtering is creating the same as hovering, but on the same time it allows the reader to dive into the data and play around, without anyone determining the agenda.\n",
    "* Stimulation defaul views\\\n",
    "These are provided to the reader and are ment to be a jumping off points for further exploration. \\\n",
    "\n",
    "<u>Messaging:</u>\n",
    "\n",
    "The following are used to communicate observations to the reader: \n",
    "\n",
    "* Captions and headlines\\\n",
    "All the visualizations have headlines since it gives an overview and makes it easier for the reader to interpret the data.\n",
    "* Annotations\\\n",
    "These are used to tell key observations from the data. \n",
    "\n",
    "* Introductory text\\\n",
    "As the project is in the genre of a slideshow, a short presentation of each \"slide\" is used, to help the reader get the most out of the visualizations. \n",
    "\n",
    "* Summary\\\n",
    "Summary is used to make sure that the reader leaves the presentation on the right page, and has gotten all the correct information. \n"
   ]
  },
  {
   "cell_type": "markdown",
   "metadata": {},
   "source": [
    "## 5. Visualization"
   ]
  },
  {
   "cell_type": "markdown",
   "metadata": {},
   "source": [
    "In the following section the visualisations will be sourced directly from the webpage, because they won’t render properly with running the code. So, for you to being able to see all of the visualisations without having to run all of the codes (one of them takes more than an hour to run), the codes will be followed by the html embedded visualisations. "
   ]
  },
  {
   "cell_type": "markdown",
   "metadata": {},
   "source": [
    "The webpage is carried by its visualizations. First we give some “Big Ass Numbers” to give the reader an overview of COVID-19 cases, deaths and recoveries, both overall and by 1 million inhabitant. "
   ]
  },
  {
   "cell_type": "markdown",
   "metadata": {},
   "source": [
    "### OVERSKRIFT"
   ]
  },
  {
   "cell_type": "markdown",
   "metadata": {},
   "source": [
    "The following code generates a heatmap, indicating which states are more severely affect."
   ]
  },
  {
   "cell_type": "code",
   "execution_count": null,
   "metadata": {},
   "outputs": [],
   "source": [
    "# Adding latitude and longitude to states\n",
    "state_loc = pd.DataFrame(np.array([\n",
    "['Baden-Wurttemberg',48.99999229,8.999993448],\n",
    "['Bayern',49.26660748,10.96660681],\n",
    "['Berlin',52.52181866,13.40154862],\n",
    "['Brandenburg',51.7704175,13.72996741],\n",
    "['Bremen',53.05043805,8.779982461],\n",
    "['Hamburg',53.55002464,9.999999144],\n",
    "['Hessen',50.30000694,9.200029662],\n",
    "['Mecklenburg Vorpommern',53.63330408,12.41669861],\n",
    "['Niedersachsen',52.1299986,9.720004434],\n",
    "['Nordrhein Westfalen',51.52998822,8.030011351],\n",
    "['Rheinland Pfalz',49.58247246,7.703219156],\n",
    "['Saarland',49.25039044,6.970003213],\n",
    "['Sachsen',50.82998395,12.91997595],\n",
    "['Sachsen Anhalt',52.13042137,11.62000362],\n",
    "['Schleswig Holstein',54.28374778,9.433315388],\n",
    "['Thuringen',50.97005292,11.02996212]]),columns=['State','Lat','Long'])\n",
    "state_loc = state_loc.sort_values('State')"
   ]
  },
  {
   "cell_type": "code",
   "execution_count": null,
   "metadata": {},
   "outputs": [],
   "source": [
    "# Add total cases to df_des\n",
    "df_des['Total Cases']= df.groupby('county')['cases'].sum().values\n",
    "\n",
    "# Create new dataframe \n",
    "df_county = df_des[['county','Lat','Lon']]\n",
    "\n",
    "# Add rows equal to total cases pr. county\n",
    "for i in range(df_des.shape[0]):\n",
    "    df_county=df_county.append([df_county[i:i+1]]*(df_des['Total Cases'][i]-1))"
   ]
  },
  {
   "cell_type": "code",
   "execution_count": null,
   "metadata": {},
   "outputs": [],
   "source": [
    "# The two plots together \n",
    "\n",
    "\n",
    "#A new map is defined: \n",
    "map_DE_heat=folium.Map([51.2, 9.8], zoom_start=6,tiles='Stamen Toner')\n",
    "\n",
    "# Ensureing that the data is float\n",
    "df_county['Lon'] = df_county['Lon'].astype(float)\n",
    "df_county['Lat'] = df_county['Lat'].astype(float)\n",
    "\n",
    "# Filter the DataFrame for columns, so only latitude and longtitude is remaining \n",
    "heat_df = df_county[['Lat', 'Lon']]\n",
    "\n",
    "# List comprehension to make out list of lists\n",
    "heat_data = [[row['Lat'],row['Lon']] for index, row in heat_df.iterrows()]\n",
    "\n",
    "# Plot it on the map. \n",
    "#The parameter radius is set to 20 meters and the max_zoom level to 20 for the tile layer that is created.\n",
    "HeatMap(data=heat_data,radius=20, max_zoom=20).add_to(map_DE_heat)\n",
    "\n",
    "\n",
    "state_loc['Total Cases'] = df.groupby('state')['cases'].sum().values\n",
    "state_loc['Total Deaths'] = df.groupby('state')['deaths'].sum().values\n",
    "state_loc['Total Recovered'] = df.groupby('state')['recovered'].sum().values\n",
    "\n",
    "for i in range(state_loc.shape[0]):\n",
    "    icon = folium.Icon(color=\"red\")\n",
    "    folium.Marker([state_loc['Lat'][i],state_loc['Long'][i]],\n",
    "                  tooltip='<b>State: {} <br>' 'Total Cases: {} <br>' 'Total Deaths: {}<br>' 'Total Recovered: {}'.format(state_loc['State'][i],state_loc['Total Cases'][i],state_loc['Total Deaths'][i],state_loc['Total Recovered'][i]),icon=icon).add_to(map_DE_heat)\n",
    "\n",
    "\n",
    "\n",
    "\n",
    "# Display the map\n",
    "map_DE_heat\n",
    "\n",
    "\n"
   ]
  },
  {
   "cell_type": "markdown",
   "metadata": {},
   "source": [
    "This visualisation shows the total number of infected indicated by the intensity of the heatmap. Furthermore, by hovering over the markers an information box will pop up and tell the total numbers of cases, recovered and deaths and in which state. This provides an opportunity for the reader to interact and only get the information of the states they find relevant or of interest."
   ]
  },
  {
   "cell_type": "code",
   "execution_count": 64,
   "metadata": {},
   "outputs": [
    {
     "data": {
      "text/html": [
       "\n",
       "        <iframe\n",
       "            width=\"900\"\n",
       "            height=\"600\"\n",
       "            src=\"https://theisgregersen.github.io/Covid-19-DE/heatmap_DE.html\"\n",
       "            frameborder=\"0\"\n",
       "            allowfullscreen\n",
       "        ></iframe>\n",
       "        "
      ],
      "text/plain": [
       "<IPython.lib.display.IFrame at 0x1c29b60fd68>"
      ]
     },
     "execution_count": 64,
     "metadata": {},
     "output_type": "execute_result"
    }
   ],
   "source": [
    "#Called from the repository\n",
    "IFrame(src='https://theisgregersen.github.io/Covid-19-DE/heatmap_DE.html', width=900, height=600)"
   ]
  },
  {
   "cell_type": "markdown",
   "metadata": {},
   "source": [
    "The following figure shows how the virus is distributed among gender and age groups."
   ]
  },
  {
   "cell_type": "code",
   "execution_count": null,
   "metadata": {},
   "outputs": [],
   "source": [
    "pyramid_data = df.groupby(['gender','age_group']).sum()\n",
    "\n",
    "women_case = pyramid_data.cases.F.values*-1\n",
    "men_case = pyramid_data.cases.M.values\n",
    "women_deaths = pyramid_data.recovered.F.values*-1\n",
    "men_deaths = pyramid_data.recovered.M.values\n",
    "\n",
    "\n",
    "y = [1,2,3,4,5,6]\n",
    "\n",
    "\n",
    "age = ['00-04','05-14', '15-34','35-59','60-79',   '80-99']\n",
    "layout = go.Layout(yaxis=go.layout.YAxis(title='Age',\n",
    "                                        tickvals=[1,2,3,4,5,6],\n",
    "                                        ticktext=age),\n",
    "                   xaxis=go.layout.XAxis(\n",
    "                       range=[-40000, 40000],\n",
    "                       tickvals=[-35000,-20000,-10000,-5000,0,5000,10000,20000,35000],\n",
    "                       ticktext=[35000,20000,10000,5000,0,5000,10000,20000,35000],\n",
    "                       title='Occurences'),\n",
    "                   barmode='overlay',\n",
    "                   bargap=0.1,\n",
    "                  \n",
    "    paper_bgcolor='rgba(0,0,0,0)',\n",
    "    plot_bgcolor='rgba(0,0,0,0)',\n",
    "    margin=go.layout.Margin(\n",
    "        l=100, #left margin\n",
    "        r=0, #right margin\n",
    "        b=0, #bottom margin\n",
    "        t=15  #top margin\n",
    "    ))\n",
    "fig = go.Figure(layout=layout)\n",
    "fig.add_trace(go.Bar(y=y,\n",
    "               x=men_case,\n",
    "               orientation='h',\n",
    "               name='Men Cases',\n",
    "               text = men_case,\n",
    "               hoverinfo='text',\n",
    "               opacity=0.8,\n",
    "               marker=dict(color='#78AAC8')\n",
    "               ))\n",
    "\n",
    "fig.add_trace(go.Bar(y=y,\n",
    "               x=men_deaths,\n",
    "               orientation='h',\n",
    "               name='Men Recoveries',\n",
    "               text = men_deaths,\n",
    "               hoverinfo='text',\n",
    "               opacity=0.8,\n",
    "               marker=dict(color='#3E618C')\n",
    "               ))\n",
    "\n",
    "fig.add_trace(go.Bar(y=y,\n",
    "               x=women_case,\n",
    "               orientation='h',\n",
    "               name='Women Cases',\n",
    "               text=-1 * women_case,\n",
    "               hoverinfo='text',\n",
    "               opacity=0.8,\n",
    "               marker=dict(color='#FFA2A9')\n",
    "               ))\n",
    "\n",
    "fig.add_trace(go.Bar(y=y,\n",
    "               x=women_deaths,\n",
    "               orientation='h',\n",
    "               name='Women Recoveries',\n",
    "               text=-1 * women_deaths,\n",
    "               hoverinfo='text',\n",
    "               opacity=0.8,\n",
    "               marker=dict(color='#E0585F')\n",
    "               ))\n",
    "fig.update_xaxes(showgrid=True, gridwidth=1, gridcolor='grey')\n",
    "fig.update_layout(hovermode='y')\n",
    "fig.show()\n",
    "#fig.write_html(\"Pyramid.html\")"
   ]
  },
  {
   "cell_type": "code",
   "execution_count": 65,
   "metadata": {},
   "outputs": [
    {
     "data": {
      "text/html": [
       "\n",
       "        <iframe\n",
       "            width=\"900\"\n",
       "            height=\"500\"\n",
       "            src=\"https://theisgregersen.github.io/Covid-19-DE/Pyramid.html\"\n",
       "            frameborder=\"0\"\n",
       "            allowfullscreen\n",
       "        ></iframe>\n",
       "        "
      ],
      "text/plain": [
       "<IPython.lib.display.IFrame at 0x1c29b60fcf8>"
      ]
     },
     "execution_count": 65,
     "metadata": {},
     "output_type": "execute_result"
    }
   ],
   "source": [
    "#Called from the repository\n",
    "IFrame(src='https://theisgregersen.github.io/Covid-19-DE/Pyramid.html', width=900, height=500)"
   ]
  },
  {
   "cell_type": "markdown",
   "metadata": {},
   "source": [
    "The final visualisation in the general overview shows the different death rates for women and men between the different age groups and it can be deduced that the death rate in general are higher for men, except for the age group 80-99. The y-axis has been log-scaled so it is possible to see the bars for age groups with a lower death rate. This can at first glance by a bit misleading, which is why it is noted in the webpage that the real values can be achieved by hovering the visual."
   ]
  },
  {
   "cell_type": "code",
   "execution_count": null,
   "metadata": {},
   "outputs": [],
   "source": [
    "dat = df.groupby(['gender','age_group'])['deaths'].sum()\n",
    "agegroup = list(df.age_group.unique())\n",
    "gender = list(df.gender.unique())\n",
    "dataa = {'AgeGroup' : list(agegroup),\n",
    "        'F' : list(dat.F.values),\n",
    "        'M' : list(dat.M.values)}\n",
    "\n",
    "tooltips = [\n",
    "    (\"Deaths Female\",\"@F\" ),\n",
    "    (\"Deaths Male\",\"@M\")\n",
    "]\n",
    "\n",
    "output_file(\"deaths_bars.html\")\n",
    "\n",
    "source = ColumnDataSource(data=dataa)\n",
    "\n",
    "p = figure(x_range=agegroup, y_range=(0.5, 2300), plot_height=250, y_axis_type=\"log\",\n",
    "           toolbar_location=None, tools=\"hover\",tooltips=tooltips, x_axis_label='Age Group', y_axis_label='Log Count of Deaths')\n",
    "\n",
    "p.vbar(x=dodge('AgeGroup', -0.15, range=p.x_range), bottom=0.01, top='F', width=0.3, source=source,\n",
    "       color='#E0585F', legend_label=\"Female\",fill_alpha=0.8)\n",
    "\n",
    "p.vbar(x=dodge('AgeGroup',  0.15,  range=p.x_range), bottom=0.01, top='M', width=0.3, source=source,\n",
    "       color=\"#3E618C\", legend_label=\"Male\",fill_alpha=0.8)\n",
    "\n",
    "p.x_range.range_padding = 0.1\n",
    "p.xgrid.grid_line_color = None\n",
    "p.legend.location = \"top_left\"\n",
    "p.legend.orientation = \"horizontal\"\n",
    "\n",
    "p.min_border_left = 0\n",
    "p.min_border_right = 0\n",
    "p.min_border_top = 0\n",
    "p.min_border_bottom = 0\n",
    "\n",
    "show(p)"
   ]
  },
  {
   "cell_type": "code",
   "execution_count": 66,
   "metadata": {},
   "outputs": [
    {
     "data": {
      "text/html": [
       "\n",
       "        <iframe\n",
       "            width=\"900\"\n",
       "            height=\"300\"\n",
       "            src=\"https://theisgregersen.github.io/Covid-19-DE/deaths_bars.html\"\n",
       "            frameborder=\"0\"\n",
       "            allowfullscreen\n",
       "        ></iframe>\n",
       "        "
      ],
      "text/plain": [
       "<IPython.lib.display.IFrame at 0x1c29b60fc18>"
      ]
     },
     "execution_count": 66,
     "metadata": {},
     "output_type": "execute_result"
    }
   ],
   "source": [
    "#Called from the repository\n",
    "IFrame(src='https://theisgregersen.github.io/Covid-19-DE/deaths_bars.html', width=900, height=300)"
   ]
  },
  {
   "cell_type": "markdown",
   "metadata": {},
   "source": [
    "### Development over Time "
   ]
  },
  {
   "cell_type": "markdown",
   "metadata": {},
   "source": [
    "The following graph shows the development of recorded cases, deaths and recoveries over time. This visualization is interactive and the hover function makes it informative. It is chosen because it gives the reader an easy and quick overview of the development over timer. And it is a smooth transition from the more general perspective above to now focusing more on the development over timer."
   ]
  },
  {
   "cell_type": "code",
   "execution_count": null,
   "metadata": {},
   "outputs": [],
   "source": [
    "#The data is prepared for this visualiation. \n",
    "\n",
    "df1 = df.sort_values(by='date')\n",
    "df1 = df1[['date','cases','deaths','recovered']]\n",
    "df1['Total Cases'] = df1['cases'].cumsum()\n",
    "df1['Total Deaths'] = df1['deaths'].cumsum()\n",
    "df1['Total Recovered'] = df1['recovered'].cumsum()\n",
    "df1 = df1.drop(['cases','deaths','recovered'],axis=1)\n",
    "# df1 = df1.set_index('date')\n",
    "#create see through background \n",
    "layout = go.Layout(\n",
    "    paper_bgcolor='rgba(0,0,0,0)',\n",
    "    plot_bgcolor='rgba(0,0,0,0)',\n",
    "    margin=go.layout.Margin(\n",
    "        l=100, #left margin\n",
    "        r=0, #right margin\n",
    "        b=0, #bottom margin\n",
    "        t=15  #top margin\n",
    "    ))\n",
    "\n",
    "\n",
    "\n",
    "# Create traces\n",
    "fig = go.Figure(layout=layout)\n",
    "#Casest\n",
    "fig.add_trace(go.Scatter(x=df1['date'], y=df1['Total Cases'],\n",
    "                    mode='lines',\n",
    "                    name='Cases',\n",
    "                    line=dict(color='rgb(247,172,0)', width=2)))\n",
    "#Recovered\n",
    "fig.add_trace(go.Scatter(x=df1['date'], y=df1['Total Recovered'],\n",
    "                    mode='lines', name='Recovered',\n",
    "                    line=dict(color='rgb(0,114,0)', width=2)))\n",
    "\n",
    "#deaths\n",
    "fig.add_trace(go.Scatter(x=df1['date'], y=df1['Total Deaths'],\n",
    "                    mode='lines', name='Deaths',\n",
    "                    line=dict(color='rgb(226,0,0)', width=2)))\n",
    "#create hover layout \n",
    "fig.update_layout(hovermode='x unified')\n",
    "\n",
    "#creating axis labels\n",
    "fig.update_layout(\n",
    "    xaxis={\n",
    "        'title':'Date'},\n",
    "    yaxis={'title':'Cumulative Registered Occurences'})\n",
    "fig.update_yaxes(showgrid=True, gridwidth=1, gridcolor='grey')\n",
    "fig.show()\n",
    "\n",
    "#fig.write_html(\"overview_cum.html\")"
   ]
  },
  {
   "cell_type": "code",
   "execution_count": 67,
   "metadata": {},
   "outputs": [
    {
     "data": {
      "text/html": [
       "\n",
       "        <iframe\n",
       "            width=\"900\"\n",
       "            height=\"500\"\n",
       "            src=\"https://theisgregersen.github.io/Covid-19-DE/overview_cum.html\"\n",
       "            frameborder=\"0\"\n",
       "            allowfullscreen\n",
       "        ></iframe>\n",
       "        "
      ],
      "text/plain": [
       "<IPython.lib.display.IFrame at 0x1c29b60feb8>"
      ]
     },
     "execution_count": 67,
     "metadata": {},
     "output_type": "execute_result"
    }
   ],
   "source": [
    "#Called from the repository\n",
    "IFrame(src='https://theisgregersen.github.io/Covid-19-DE/overview_cum.html', width=900, height=500)"
   ]
  },
  {
   "cell_type": "markdown",
   "metadata": {},
   "source": [
    "## Race bar chart between states"
   ]
  },
  {
   "cell_type": "markdown",
   "metadata": {},
   "source": [
    "The heatmap movie/plot is followed by a race bar chart to explain the spread of confirmed cases in state level. This race bar chart makes it easy to see how some states are more affected than others. Of course size of the state is important to aknowledge in such kind of \"race\". However this is again to give an overview."
   ]
  },
  {
   "cell_type": "code",
   "execution_count": null,
   "metadata": {},
   "outputs": [],
   "source": [
    "#First we maniplaute the data set to create the wanted table: \n",
    "df_state=df[['state','date','cases']]\n",
    "# df_state['date'] = pd.to_datetime(df_state.date)\n",
    "df_state_date=pd.DataFrame(df_state.groupby(['state','date'],as_index=False).count().sort_values(by='cases',ascending=False))\n",
    "\n",
    "\n",
    "users = df_state_date['state'].unique()\n",
    "dates = pd.date_range(df_state_date.date.min(), df_state_date.date.max())\n",
    "idx = pd.MultiIndex.from_product((dates, users), names=['date', 'state'])\n",
    "df_state_date=df_state_date.set_index(['date', 'state']).reindex(idx, fill_value=0).reset_index()\n",
    "\n",
    "#Cumsum is calculated:\n",
    "df_state_date=pd.DataFrame(df_state_date.groupby(['state','date']).sum().groupby('state').cumsum().reset_index())"
   ]
  },
  {
   "cell_type": "code",
   "execution_count": null,
   "metadata": {},
   "outputs": [],
   "source": [
    "#Create 16 of different colors for each state\n",
    "c=['dimgray',\n",
    " 'mediumaquamarine',\n",
    " 'pink',\n",
    " 'purple',\n",
    " 'seagreen',\n",
    " 'gray',\n",
    " 'lightgray',\n",
    " 'papayawhip',\n",
    " 'red',\n",
    " 'slateblue',\n",
    " 'midnightblue',\n",
    " 'darkslategrey',\n",
    " 'sandybrown',\n",
    " 'black',\n",
    " 'orange',\n",
    " 'peachpuff']\n",
    "\n",
    "#Creating a color dictionary to make sure color stick to state\n",
    "colors = dict(zip(\n",
    "    users,\n",
    "    c\n",
    "))\n",
    "group_lk = df_state_date.set_index('state').to_dict()"
   ]
  },
  {
   "cell_type": "code",
   "execution_count": null,
   "metadata": {},
   "outputs": [],
   "source": [
    "%%time\n",
    "\n",
    "#Need to download ImageMagick and set matplotlib converter to use it as default. FFMPEG does not create looping gif.\n",
    "#plt.rcParams['animation.convert_path'] = 'C:/Program Files/ImageMagick-7.0.10-Q16/magick.exe'\n",
    "\n",
    "def draw_barchart(date):\n",
    "\n",
    "    dff = df_state_date[df_state_date['date'].eq(date)].sort_values(by='cases', ascending=True).tail(16)\n",
    "    ax.clear()\n",
    "    ax.barh(dff['state'], dff['cases'],color=[colors[x] for x in dff['state']])\n",
    "    dx = dff['cases'].max() / 200\n",
    "    \n",
    "    for i, (cases, state) in enumerate(zip(dff['cases'], dff['state'])):\n",
    "\n",
    "        ax.text(cases+dx, i,     f'{cases:,.0f}',  size=14, ha='left',  va='center')\n",
    "        \n",
    "\n",
    "        ax.text(1, 0.4, date.strftime(\"%d/%m/%Y\"), transform=ax.transAxes, color='#777777', size=40, ha='right', weight=800)\n",
    "        ax.text(0, 1.06, 'Total Cases per State', transform=ax.transAxes, size=12, color='#777777')\n",
    "        ax.xaxis.set_major_formatter(ticker.StrMethodFormatter('{x:,.0f}'))\n",
    "        ax.xaxis.set_ticks_position('top')\n",
    "        ax.tick_params(axis='x', colors='#777777', labelsize=12)\n",
    "\n",
    "        ax.margins(0, 0)\n",
    "        ax.grid(which='major', axis='x', linestyle='-')\n",
    "        ax.set_axisbelow(True)\n",
    "        #ax.text(0, 1.12, 'The number of cases in states',\n",
    "        #        transform=ax.transAxes, size=24, weight=600, ha='left')\n",
    "        ax.text(1, 0, 'by @Katja, Theis, Victor', transform=ax.transAxes, ha='right',\n",
    "                color='#777777', bbox=dict(facecolor='white', alpha=0.8, edgecolor='white'))\n",
    "\n",
    "        \n",
    "fig, ax = plt.subplots(figsize=(15, 8))\n",
    "animator = animation.FuncAnimation(fig, draw_barchart, frames=pd.date_range(start='2020-01-28',end='2020-05-05'))\n",
    "\n",
    "#animator.save('animation.gif', writer='imagemagick')"
   ]
  },
  {
   "cell_type": "code",
   "execution_count": null,
   "metadata": {},
   "outputs": [],
   "source": [
    "HTML(animator.to_jshtml())"
   ]
  },
  {
   "cell_type": "code",
   "execution_count": 58,
   "metadata": {
    "scrolled": false
   },
   "outputs": [
    {
     "data": {
      "text/html": [
       "\n",
       "        <iframe\n",
       "            width=\"1000\"\n",
       "            height=\"550\"\n",
       "            src=\"https://theisgregersen.github.io/Covid-19-DE/animation.gif\"\n",
       "            frameborder=\"0\"\n",
       "            allowfullscreen\n",
       "        ></iframe>\n",
       "        "
      ],
      "text/plain": [
       "<IPython.lib.display.IFrame at 0x1c29e1c73c8>"
      ]
     },
     "execution_count": 58,
     "metadata": {},
     "output_type": "execute_result"
    }
   ],
   "source": [
    "#Called from the repository\n",
    "IFrame(src='https://theisgregersen.github.io/Covid-19-DE/animation.gif',width = 1000, height= 550)"
   ]
  },
  {
   "cell_type": "markdown",
   "metadata": {},
   "source": [
    "The racebar chart has been chosen due to its intuitive approach for the reader. The reader quickly notes that the values follow the displayed date and the use of racing bars ensures that the reader, without having to process the actual number, can get an idea of the development. It is not expected to be an indepth understanding of the development, thus the choice of an fps of 4, but more to get a quick overview of which states  had early cases, had most cases in the end and how fast they increased compared to each other.\n",
    "\n",
    "It is noted that three states have the highest number of cases, those being: Bayern, Nordrhein-Westfallen and Baden-Wuerttenberg. It can also be derived from the visualisation that the number of registered cases increases a lot faster from mid March and on."
   ]
  },
  {
   "cell_type": "markdown",
   "metadata": {},
   "source": [
    "__OBS: Following code is 1+ hour to run. So please dont run it.__"
   ]
  },
  {
   "cell_type": "markdown",
   "metadata": {},
   "source": [
    "However, it is a code that generate the same amount of rows as cases to make it possible to create the movie.\n",
    "\n",
    "To make sure you did not run the following code accidently, the \"%% script false\" has been added in the first line. So, if you for some reason desire to run it anyway, please delete this."
   ]
  },
  {
   "cell_type": "code",
   "execution_count": null,
   "metadata": {},
   "outputs": [],
   "source": [
    "%% script false\n",
    "df1 = pd.DataFrame(columns=['state','county','age_group','gender','date','cases','deaths','population','Lat','Lon'])\n",
    "\n",
    "df_copy = df[~(df[['cases']] == 0).any(axis=1)]\n",
    "\n",
    "for i in range(df_copy.shape[0]):\n",
    "    print(i)\n",
    "    df1=df1.append([df_copy[i:i+1]]*df_copy['cases'].iloc[i])"
   ]
  },
  {
   "cell_type": "code",
   "execution_count": null,
   "metadata": {},
   "outputs": [],
   "source": [
    "#Create a new map of GE, so that the video is based on an empty map\n",
    "\n",
    "start = dt.datetime(2020, 1, 28, 0, 0, 0)\n",
    "end = dt.datetime(2020, 5, 3, 0, 0, 0)\n",
    "\n",
    "delta = end - start\n",
    "datess = []\n",
    "for i in range(delta.days + 1):\n",
    "    #print(start + datetime.timedelta(days=i))\n",
    "    y = start + dt.timedelta(days=i)\n",
    "    x = y.date().strftime(\"%Y-%m-%d\")\n",
    "    datess.append(x)\n",
    "\n",
    "map_time = folium.Map([51.2, 9.8], zoom_start=5.8,tiles='Stamen Toner')\n",
    "\n",
    "\n",
    "#assaults15quart = assaults[(assaults['DateTime'] > \"2015-01-01\") & (assaults['DateTime'] < \"2015-03-31\")]\n",
    "df1 = df1[(df1['date'] > '2020-01-27')]\n",
    "# Ensure you're handing it floats\n",
    "df1['Lat'] = df1['Lat'].astype(float)\n",
    "df1['Lon'] = df1['Lon'].astype(float)\n",
    "\n",
    "# Filter the DF for columns \n",
    "\n",
    "heat_df1 = df1[['Lat', 'Lon']]\n",
    "\n",
    "# Create weight column, using Hour, \n",
    "heat_df1['Weight'] = df1.date.dt.dayofyear.astype(float)\n",
    "heat_df1['Weight'] = heat_df1['Weight'].astype(float)\n",
    "heat_df1 = heat_df1.dropna(axis=0, subset=['Lat','Lon', 'Weight']) #And drop Na's \n",
    "\n",
    "# List comprehension to make out list of lists. range is 24 due to 24 hours. \n",
    "heat_data = [[[row['Lat'],row['Lon']] for index, row in heat_df1[heat_df1['Weight'] == i].iterrows()] for i in range(heat_df1['Weight'].astype(int).min(),heat_df1['Weight'].astype(int).max()+1)]\n",
    "\n",
    "\n",
    "# Plot it on the map\n",
    "hm = plugins.HeatMapWithTime(heat_data,auto_play=True,max_opacity=0.8,index=datess,position='bottomright')\n",
    "hm.add_to(map_time)\n",
    "# Display the map\n",
    "map_time"
   ]
  },
  {
   "cell_type": "code",
   "execution_count": 59,
   "metadata": {},
   "outputs": [
    {
     "data": {
      "text/html": [
       "\n",
       "        <iframe\n",
       "            width=\"900\"\n",
       "            height=\"600\"\n",
       "            src=\"https://theisgregersen.github.io/Covid-19-DE/heatmap_time.html\"\n",
       "            frameborder=\"0\"\n",
       "            allowfullscreen\n",
       "        ></iframe>\n",
       "        "
      ],
      "text/plain": [
       "<IPython.lib.display.IFrame at 0x1c29e1c7128>"
      ]
     },
     "execution_count": 59,
     "metadata": {},
     "output_type": "execute_result"
    }
   ],
   "source": [
    "#Called from the repository\n",
    "IFrame(src='https://theisgregersen.github.io/Covid-19-DE/heatmap_time.html', width=900, height=600)"
   ]
  },
  {
   "cell_type": "markdown",
   "metadata": {},
   "source": [
    "The heatmap movie show the number of recorded cases for each day at a given county. It gives a geographic overview of the spread and it provides another way of illustrating how the virus slowly invades Germany at the very beginning and then quite suddenly increases its pace until it has penetrated all of the country."
   ]
  },
  {
   "cell_type": "markdown",
   "metadata": {},
   "source": [
    "### Measurements in attempt of reducing spread "
   ]
  },
  {
   "cell_type": "markdown",
   "metadata": {},
   "source": [
    "This graph is followed by a visualization of the daily registered new cases, deaths and recoveries. Furthermore, five events are shown on this graph (vertical dotted lines). These five events are government regulations of statments. These vertical likes are chosen to show on this graph, since it makes it possible to determine, whether the regulation has made an impact on the spread of the virus.  According to WHO, the incubation period for COVID-19 is on average 5-6 days, however can be up to 14 days. ([Coronavirus disease 2019 (COVID-19) Situation Report – 73,WHO](https://www.who.int/docs/default-source/coronaviruse/situation-reports/20200402-sitrep-73-covid-19.pdf?sfvrsn=5ae25bc7_4#:~:text=The%20incubation%20period%20for%20COVID,occur%20before%20symptom%20onset.) ). This tells us, that it should be possible to see the regulation impact on the data about 5-14 days after its implementation. "
   ]
  },
  {
   "cell_type": "code",
   "execution_count": null,
   "metadata": {},
   "outputs": [],
   "source": [
    "#creating a dataframe that groupby date and sum \n",
    "df_date=pd.DataFrame(df.groupby(['date']).sum().sort_values(by='cases',ascending=False))\n",
    "\n",
    "#creating vectors to use for the vertical dotted lines\n",
    "a=list(range(0,6500))\n",
    "b=['2020-03-22'] * 6500\n",
    "c=['2020-03-13'] * 6500\n",
    "d=['2020-04-20'] * 6500\n",
    "e=['2020-04-15'] * 6500\n",
    "f=['2020-03-15'] * 6500"
   ]
  },
  {
   "cell_type": "code",
   "execution_count": null,
   "metadata": {},
   "outputs": [],
   "source": [
    "# fig.set_size_inches(18, 10)\n",
    "# Create trace\n",
    "#create see through background \n",
    "layout = go.Layout(\n",
    "    paper_bgcolor='rgba(0,0,0,0)',\n",
    "    plot_bgcolor='rgba(0,0,0,0)',\n",
    "    margin=go.layout.Margin(\n",
    "        l=100, #left margin\n",
    "        r=0, #right margin\n",
    "        b=0, #bottom margin\n",
    "        t=15  #top margin\n",
    "    ))\n",
    "\n",
    "fig = go.Figure(layout=layout)\n",
    "\n",
    "#Cases\n",
    "fig.add_trace(go.Bar(x=df_date.index, y=df_date['cases'],\n",
    "                    name='Cases',marker_color='rgb(247,172,0)'))\n",
    "# #Recovered\n",
    "fig.add_trace(go.Bar(x=df_date.index, y=df_date['recovered'],\n",
    "                    name='Recovered',marker_color='rgb(0,114,0)'))\n",
    "\n",
    "# #deaths\n",
    "fig.add_trace(go.Bar(x=df_date.index, y=df_date['deaths'],\n",
    "                    name='Deaths',marker_color='rgb(226,0,0)'))\n",
    "\n",
    "#Following vertical dotted lines are added with hovers explaining the regulations made by the goverment. \n",
    "#2020-03-13\n",
    "fig.add_trace(go.Scatter(\n",
    "    x=c,\n",
    "    y=a,\n",
    "    line=dict(\n",
    "        color=\"Black\",\n",
    "        width=2,\n",
    "        dash=\"dot\",\n",
    "    ),\n",
    "    hovertemplate = ('2020-03-13: <br>14 of the 16 German federal states decided to close their schools and nurseries for the next few weeks.')\n",
    "    ,name=''\n",
    "    ,showlegend=False,\n",
    "    legendgroup = 'a',\n",
    "))\n",
    "\n",
    "\n",
    "#2020-03-15\n",
    "fig.add_trace(go.Scatter(\n",
    "    x=f,\n",
    "    y=a,\n",
    "    line=dict(\n",
    "        color=\"Black\",\n",
    "        width=2,\n",
    "        dash=\"dot\",\n",
    "    ),\n",
    "    hovertemplate = ('2020-03-15: <br>Germany closes borders')\n",
    "    ,name=''\n",
    "    ,showlegend=False,\n",
    "    legendgroup = 'a'\n",
    "))\n",
    "\n",
    "#2020-03-22\n",
    "fig.add_trace(go.Scatter(\n",
    "    x=b,\n",
    "    y=a,\n",
    "    line=dict(\n",
    "        color=\"Black\",\n",
    "        width=2,\n",
    "        dash=\"dot\",\n",
    "    ),\n",
    "    hovertemplate = ('2020-03-22: <br>The government and the federal states agreed for at least two weeks to forbid gatherings <br>of more than two people and require a minimum distance of 1.5 metres. ')\n",
    "    ,name=''\n",
    "    ,showlegend=False,\n",
    "    legendgroup = 'a'\n",
    "))\n",
    "\n",
    "#2020-04-15\n",
    "fig.add_trace(go.Scatter(\n",
    "    x=e,\n",
    "    y=a,\n",
    "    line=dict(\n",
    "        color=\"Black\",\n",
    "        width=2,\n",
    "        dash=\"dot\",\n",
    "    ),\n",
    "    hovertemplate = ('2020-04-15: <br>The government declare “fragile intermediate success” in slowing spread of virus.')\n",
    "    ,name='',\n",
    "    showlegend=False,\n",
    "    legendgroup = 'a'\n",
    "))\n",
    "\n",
    "#2020-04-20\n",
    "fig.add_trace(go.Scatter(\n",
    "    x=d,\n",
    "    y=a,\n",
    "    line=dict(\n",
    "        color=\"Black\",\n",
    "        width=2,\n",
    "        dash=\"dot\",       \n",
    "    ),\n",
    "    hovertemplate = ('2020-04-20: <br>Shops with a retail space of up to 800 square metres, as well as bookshops, <br>bike stores and car dealerships, would be allowed to reopen to the public on 20 April, <br>providing they followed specified conditions of distancing and hygiene')\n",
    "    ,name='Regulations',\n",
    "    legendgroup = 'a'\n",
    "))\n",
    "\n",
    "\n",
    "#creating axis labels \n",
    "fig.update_layout(\n",
    "    xaxis={\n",
    "        'title':'Date'},\n",
    "    yaxis={'title':'Daily Registered Occurences'})\n",
    "\n",
    "fig.update_yaxes(showgrid=True, gridwidth=1, gridcolor='grey')\n",
    "fig.update_layout(hovermode='x')\n",
    "fig.show()\n",
    "#fig.write_html(\"Overview_byday.html\")"
   ]
  },
  {
   "cell_type": "code",
   "execution_count": 60,
   "metadata": {},
   "outputs": [
    {
     "data": {
      "text/html": [
       "\n",
       "        <iframe\n",
       "            width=\"900\"\n",
       "            height=\"500\"\n",
       "            src=\"https://theisgregersen.github.io/Covid-19-DE/Overview_byday.html\"\n",
       "            frameborder=\"0\"\n",
       "            allowfullscreen\n",
       "        ></iframe>\n",
       "        "
      ],
      "text/plain": [
       "<IPython.lib.display.IFrame at 0x1c29b60fe80>"
      ]
     },
     "execution_count": 60,
     "metadata": {},
     "output_type": "execute_result"
    }
   ],
   "source": [
    "#Called from the repository\n",
    "IFrame(src='https://theisgregersen.github.io/Covid-19-DE/Overview_byday.html', width=900, height=500)"
   ]
  },
  {
   "cell_type": "markdown",
   "metadata": {},
   "source": [
    "Looking at the graph, both cases, recovered and deaths are behaving in waves. There are tendencies saying that a regulation has its impact, as for example about one week after all schools and borders are closed, the number of cases per day goes down too. However, the cases then goes up again, which are not explainable. These tendencies might say more about how many Germans are tested per day rather than how many are actually smitten. About two weeks after the regulation about maximum 2 people gathered, made the 2020-03-22, it seems like the curves has peaked, which is why the government declare “fragile intermediate success” in slowing the spread of virus.\n",
    "\n",
    "Germany stated, that they are in control of the virus spread. Looking at the R0 value, \n"
   ]
  },
  {
   "cell_type": "markdown",
   "metadata": {},
   "source": [
    "## R0 value\n",
    "### The basic reproduction number"
   ]
  },
  {
   "cell_type": "markdown",
   "metadata": {},
   "source": [
    "The basic reproduction number is defined as the number of cases that are expected to occur on average in a homogeneous population as a result of infection by a single individual, when the population is susceptible at the start of an epidemic, before widespread immunity starts to develop and before any attempt has been made at immunization. So if one person develops the infection and passes it on to two others, the R0 is 2.\n",
    "\n",
    "If the average R0 in the population is greater than 1, the infection will spread exponentially. If R0 is less than 1, the infection will spread only slowly, and it will eventually die out. The higher the value of R0, the faster an epidemic will progress.\n",
    "\n",
    "R0 is estimated from data collected in the field and entered into mathematical models. The estimated value depends on the model used and the data that inform it.\n",
    "\n",
    "R0 is affected by:\n",
    "\n",
    "* the proportion of susceptible people at the start and the density of the population;\n",
    "* the infectiousness of the organism;\n",
    "* the rate of disappearance of cases by recovery or death, the first of which depends on the time for which an individual is infective;\n",
    "\n",
    "The larger the population, the more people are susceptible, and the more infective the virus, the larger R0 will be for a given virus; the faster the rate of removal of infected individuals, by recovery or death, the smaller R0 will be.\n",
    "\n",
    "The zero in “R zero” means that it is estimated when there is zero immunity in the population, even though not everyone will necessarily be susceptible to infection, although that is the usual assumption. In an epidemic with a completely new virus, the earlier the measurements are made the nearer the calculated value is likely to be to the true value of R0, assuming high-quality data. For this reason, it is better to talk about the transmissibility of the virus at the time that it is measured, using a different symbol, Re, the effective reproduction number. \n",
    "\n",
    "The definition of R0 is from [CEBM](https://www.cebm.net/covid-19/when-will-it-be-over-an-introduction-to-viral-reproduction-numbers-r0-and-re/)"
   ]
  },
  {
   "cell_type": "code",
   "execution_count": null,
   "metadata": {},
   "outputs": [],
   "source": [
    "# The data are preparred: \n",
    "popu = df_demo['population'].sum()\n",
    "df_R0_plot = df[['cases','deaths','recovered']].sum()\n",
    "df_R0_plot['population'] = popu"
   ]
  },
  {
   "cell_type": "code",
   "execution_count": null,
   "metadata": {},
   "outputs": [],
   "source": [
    "#R0 function is created\n",
    "from scipy.integrate import odeint\n",
    "def deriv(y, t, N, beta, gamma, delta, alpha, rho):\n",
    "    S, E, I, R, D = y\n",
    "    dSdt = -beta * S * I / N\n",
    "    dEdt = beta * S * I / N - delta * E\n",
    "    dIdt = delta * E - (1 - alpha) * gamma * I - alpha * rho * I\n",
    "    dRdt = (1 - alpha) * gamma * I\n",
    "    dDdt = alpha * rho * I\n",
    "    return dSdt, dEdt, dIdt, dRdt, dDdt"
   ]
  },
  {
   "cell_type": "code",
   "execution_count": null,
   "metadata": {},
   "outputs": [],
   "source": [
    "#https://www.imperial.ac.uk/news/196573/covid-19-one-five-over-80s-need-hospitalisation/\n",
    "R_0 = 0.9 #Choose 0.9, 3, 1.38\n",
    "Days_Ahead = 1500\n",
    "datdat = df_R0_plot\n",
    "\n",
    "cumCase = datdat.cases\n",
    "cumDeath = datdat.deaths\n",
    "cumRecovered = datdat.recovered\n",
    "cumExposed = 1 #Exposed (Find ud af hvad der skal stå her)\n",
    "\n",
    "\n",
    "N = datdat['population'] #Population\n",
    "D = 14 # infections lasts two weeks\n",
    "gamma = 1 / D\n",
    "delta = 1 / 14  # incubation period of two weeks\n",
    "R_0 = R_0\n",
    "beta = R_0 * gamma  # R_0 = beta / gamma, so beta = R_0 * gamma\n",
    "alpha = 0.0066  #Calculated death rate\n",
    "rho = 1/7  # 7 days from infection until death (Based on https://www.worldometers.info/coronavirus/coronavirus-death-rate/)\n",
    "E0 = cumExposed\n",
    "S0 = N - cumCase - cumDeath - cumRecovered - E0 #Suspectible\n",
    "I0 = cumCase - cumDeath - cumRecovered\n",
    "R0 = cumRecovered\n",
    "D0 = cumDeath\n",
    "\n",
    "t = np.linspace(0, Days_Ahead,Days_Ahead) # Grid of time points (in days)\n",
    "y0 = S0, E0, I0, R0, D0 # Initial conditions vector\n",
    "\n",
    "# Integrate the SIR equations over the time grid, t.\n",
    "ret = odeint(deriv, y0, t, args=(N, beta, gamma, delta, alpha, rho))\n",
    "S, E, I, R, D = ret.T\n",
    "\n",
    "date_list = [df.date.max() + dt.timedelta(days=x) for x in range(Days_Ahead)]\n",
    "d = {'Date': date_list, 'Suspectible': S, 'Infected': I, 'Recovered': R, 'Deaths': D}\n",
    "plotdat = pd.DataFrame(data=d)\n",
    "plotdat = plotdat.set_index('Date')\n",
    "\n",
    "# Create random data with numpy\n",
    "\n",
    "\n",
    "random_x = plotdat.index\n",
    "random_y0 = plotdat.Suspectible\n",
    "random_y1 = plotdat.Infected\n",
    "random_y2 = plotdat.Recovered\n",
    "random_y3 = plotdat.Deaths\n",
    "\n",
    "# Create traces\n",
    "layout = go.Layout(\n",
    "    paper_bgcolor='rgba(0,0,0,0)',\n",
    "    plot_bgcolor='rgba(0,0,0,0)',\n",
    "    margin=go.layout.Margin(\n",
    "        l=100, #left margin\n",
    "        r=0, #right margin\n",
    "        b=0, #bottom margin\n",
    "        t=30  #top margin\n",
    "    )\n",
    "    \n",
    ")\n",
    "fig = go.Figure(layout=layout)\n",
    "fig.add_trace(go.Scatter(x=random_x, y=random_y0,\n",
    "                    mode='lines',\n",
    "                    name='Suspectible',\n",
    "                    line=dict(color='rgb(0,0,219)', width=2)))\n",
    "fig.add_trace(go.Scatter(x=random_x, y=random_y1,\n",
    "                    mode='lines',\n",
    "                    name='Infected',\n",
    "                    line=dict(color='rgb(247,172,0)', width=2)))\n",
    "fig.add_trace(go.Scatter(x=random_x, y=random_y2,\n",
    "                    mode='lines', name='Recovered',\n",
    "                    line=dict(color='rgb(0,114,0)', width=2)))\n",
    "fig.add_trace(go.Scatter(x=random_x, y=random_y3,\n",
    "                    mode='lines', name='Deaths',\n",
    "                    line=dict(color='rgb(226,0,0)', width=2)))\n",
    "\n",
    "fig.add_trace(go.Scatter(x=random_x, y=random_y1*0.086,\n",
    "                    mode='lines', name='Hospitalised',\n",
    "                    line=dict(color='rgb(218,112,214)', width=2)))\n",
    "\n",
    "#https://en.wikipedia.org/wiki/List_of_countries_by_hospital_beds\n",
    "\n",
    "beds_available = 8 * 83.02*1000*(1-0.79)\n",
    "\n",
    "fig.add_shape(\n",
    "        # Line Horizontal\n",
    "            type=\"line\",\n",
    "            x0=str(random_x.min()),\n",
    "            y0=beds_available,\n",
    "            x1=str(random_x.max()),\n",
    "            y1=beds_available,\n",
    "            line=dict(\n",
    "                color=\"black\",\n",
    "                width=2,\n",
    "                dash=\"dot\",\n",
    "            ),\n",
    "    )\n",
    "\n",
    "\n",
    "fig.add_annotation(dict(font=dict(color=\"black\",size=12),\n",
    "                            #x=x_loc,\n",
    "                            x='2020-03-05',\n",
    "                            y=beds_available,\n",
    "                            showarrow=False,\n",
    "                            text='<b>Hospital   <br> Capacity   </b>',\n",
    "                            textangle=0,\n",
    "                            xref=\"paper\",\n",
    "                            yref=\"y\"\n",
    "                           ))\n",
    "\n",
    "\n",
    "fig.update_layout(showlegend=True)\n",
    "fig.update_yaxes(showgrid=True, gridwidth=1, gridcolor='grey')\n",
    "\n",
    "fig.update_layout(\n",
    "    title={\n",
    "        'text': 'R0 = {}'.format(R_0),\n",
    "        'y':0.95,\n",
    "        'x':0.5,\n",
    "        'xanchor': 'center',\n",
    "        'yanchor': 'top'})\n",
    "\n",
    "fig.update_layout(hovermode='x unified')\n",
    "\n",
    "fig.show()\n",
    "#fig.write_html(\"R0_09.html\")"
   ]
  },
  {
   "cell_type": "markdown",
   "metadata": {},
   "source": [
    "### R0 = 0.9"
   ]
  },
  {
   "cell_type": "code",
   "execution_count": 61,
   "metadata": {},
   "outputs": [
    {
     "data": {
      "text/html": [
       "\n",
       "        <iframe\n",
       "            width=\"900\"\n",
       "            height=\"500\"\n",
       "            src=\"https://theisgregersen.github.io/Covid-19-DE/R0_09.html\"\n",
       "            frameborder=\"0\"\n",
       "            allowfullscreen\n",
       "        ></iframe>\n",
       "        "
      ],
      "text/plain": [
       "<IPython.lib.display.IFrame at 0x1c29b60ff98>"
      ]
     },
     "execution_count": 61,
     "metadata": {},
     "output_type": "execute_result"
    }
   ],
   "source": [
    "#Called from the repository\n",
    "IFrame(src='https://theisgregersen.github.io/Covid-19-DE/R0_09.html', width=900, height=500)"
   ]
  },
  {
   "cell_type": "markdown",
   "metadata": {},
   "source": [
    "### R0 = 3.0"
   ]
  },
  {
   "cell_type": "code",
   "execution_count": 62,
   "metadata": {},
   "outputs": [
    {
     "data": {
      "text/html": [
       "\n",
       "        <iframe\n",
       "            width=\"900\"\n",
       "            height=\"500\"\n",
       "            src=\"https://theisgregersen.github.io/Covid-19-DE/R0_3.html\"\n",
       "            frameborder=\"0\"\n",
       "            allowfullscreen\n",
       "        ></iframe>\n",
       "        "
      ],
      "text/plain": [
       "<IPython.lib.display.IFrame at 0x1c29b60fdd8>"
      ]
     },
     "execution_count": 62,
     "metadata": {},
     "output_type": "execute_result"
    }
   ],
   "source": [
    "#Called from the repository\n",
    "IFrame(src='https://theisgregersen.github.io/Covid-19-DE/R0_3.html', width=900, height=500)"
   ]
  },
  {
   "cell_type": "markdown",
   "metadata": {},
   "source": [
    "### R0 = 1.38"
   ]
  },
  {
   "cell_type": "code",
   "execution_count": 63,
   "metadata": {},
   "outputs": [
    {
     "data": {
      "text/html": [
       "\n",
       "        <iframe\n",
       "            width=\"900\"\n",
       "            height=\"400\"\n",
       "            src=\"https://theisgregersen.github.io/Covid-19-DE/R0_138.html\"\n",
       "            frameborder=\"0\"\n",
       "            allowfullscreen\n",
       "        ></iframe>\n",
       "        "
      ],
      "text/plain": [
       "<IPython.lib.display.IFrame at 0x1c29b60fe10>"
      ]
     },
     "execution_count": 63,
     "metadata": {},
     "output_type": "execute_result"
    }
   ],
   "source": [
    "#Called from the repository\n",
    "IFrame(src='https://theisgregersen.github.io/Covid-19-DE/R0_138.html', width=900, height=400)"
   ]
  },
  {
   "cell_type": "markdown",
   "metadata": {},
   "source": [
    "# oBS; beskriv her hvad vi kan se ved R0 plotExplaination about the R0 plot \n"
   ]
  },
  {
   "cell_type": "markdown",
   "metadata": {},
   "source": [
    "## 6. Discussion "
   ]
  },
  {
   "cell_type": "markdown",
   "metadata": {},
   "source": [
    "\n",
    "This project has tried to highlight the development of COVID-19 virus in Germany and analyzed how regulations made by the government has influenced the spread. First important thing to be aware of, is the amount of people that are tested for COVID-19. When starting up the project, Germany was chosen, amongst other reasons, because they were one of the countries that did the most tests relative to population. In the week ending 4 April, 132 laboratories across Germany carried out an average of 116,655 swab tests per day. (ref: BBC In the week ending 4 April, 132 laboratories across Germany carried out an average of 116,655 swab tests per day.). However, this number of tests are not significant when the population is 83,7 million (2020). Germany (and the rest of the world) has a big percentage of people carrying the COVID-19 virus, probably without knowing it and not showing symptoms, are not getting tested. Hence this is an important factor in the data analysis and interpretation. Considering this, the death rate is more trustworthy since all fatalities are tested for COVID-19. It might make sense to look  more into the fatalities, when analyzing the actions taken from the government. \n",
    "\n",
    "When comparing groups, it is often recommended to compare “equally”. When comparing the confirmed cases in the 16 German states, it is not compared per 1mil inhabitant. This is creating an advantage for the states that has a very low number of inhabitants, because it will then look like they have no confirmed cases, but in reality, they might have a big percentage of confirmed cases. However, this view is chosen since it show the exact number in each state, hence indicating where hospitality limitations might be. \n",
    "  \n",
    "Germany has taken early action when it comes to limiting the spread of COVID-19 virus, and it has successfully resulted in a “fragile intermediate success” in slowing spread of virus. The regulations might not be easy to inspect from the number of confirmed cases/deaths/recoveries, however, it is clear that the curve has flatten. Now Germany is slowly opening up again, and it becomes even more important to test and follow the curve, to make sure R0 stays beneath 1. \n"
   ]
  },
  {
   "cell_type": "markdown",
   "metadata": {},
   "source": [
    "## 7. Contribution "
   ]
  },
  {
   "cell_type": "markdown",
   "metadata": {},
   "source": [
    "In this project, all three members have contributed to more or less all sections. Generating the idea, creating the video presentation (project assignement A), the analysis and the visualizations have been discussed jointly. We have each been given the responsibility to complete specific visualizations. Subsequently, feedback is given to each section. This is ensured by the fact that we did the planning all together and reflections and feedback could easily be shared. The following stacked bar chart shows the percentage contribution of work for each task: "
   ]
  },
  {
   "cell_type": "code",
   "execution_count": null,
   "metadata": {},
   "outputs": [],
   "source": [
    "df=pd.read_excel('contribution.xlsx', index_col=0) "
   ]
  },
  {
   "cell_type": "code",
   "execution_count": null,
   "metadata": {},
   "outputs": [],
   "source": [
    "fig = plt.figure()\n",
    "df.plot(kind='barh', stacked=True, legend=['name'],figsize=(12, 10),color='rgb(226,0,0),rgb(0,114,0),rgb(247,172,0)',title='Percentage distribution of work for each task')\n"
   ]
  },
  {
   "cell_type": "code",
   "execution_count": null,
   "metadata": {},
   "outputs": [],
   "source": []
  }
 ],
 "metadata": {
  "kernelspec": {
   "display_name": "Python 3",
   "language": "python",
   "name": "python3"
  },
  "language_info": {
   "codemirror_mode": {
    "name": "ipython",
    "version": 3
   },
   "file_extension": ".py",
   "mimetype": "text/x-python",
   "name": "python",
   "nbconvert_exporter": "python",
   "pygments_lexer": "ipython3",
   "version": "3.6.4"
  }
 },
 "nbformat": 4,
 "nbformat_minor": 4
}
